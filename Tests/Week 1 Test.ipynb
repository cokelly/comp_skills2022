{
 "cells": [
  {
   "cell_type": "markdown",
   "metadata": {},
   "source": [
    "# Week 1 Test (10 marks/10%)"
   ]
  },
  {
   "cell_type": "markdown",
   "metadata": {},
   "source": [
    "Each week I assign a test so that you can revise and practice the skills you acquired in class and gain some credit for them. \n",
    "\n",
    "As you have discovered, the potential for errors in coding often comes down to misplaced syntax, tabs or punctuations. You may also provoke an error if you call an object one thing in place x and then try to invoke it using a slightly different name somewhere else. So consistency is key."
   ]
  },
  {
   "cell_type": "markdown",
   "metadata": {},
   "source": [
    "## Don't suffer alone!"
   ]
  },
  {
   "cell_type": "markdown",
   "metadata": {},
   "source": [
    "These exercises are designed to help you learn. If you get an error or a strange answer you should read carefully over your code. It can help to take a rest and come back to it, always keeping in mind that Python cares about syntax and punctuation.\n",
    "\n",
    "If you are still stuck send me an email and we will arrange a five minute call to see if I can help (without doing your homework for you). \n",
    "\n",
    "Give me time though: **I cannot guarantee that I will take calls within 24 hours of the assignement deadline** so if you leave things until then you do so at your own risk."
   ]
  },
  {
   "cell_type": "markdown",
   "metadata": {},
   "source": [
    "## How to submit your work"
   ]
  },
  {
   "cell_type": "markdown",
   "metadata": {},
   "source": [
    "In this folder and on Canvas you will find a pdf file entitled 'submitting assignments.' This will help you submit your assignment. In essence though the instruction is:\n",
    "\n",
    "1. Save your completed notebook \n",
    "2. Go to `File $\\rightarrow$ Save and export notebook as $\\rightarrow$ HTML\n",
    "3. Download the resulting HTML file\n",
    "4. Rename the file to include your student number\n",
    "5. Go to Canvas $\\rightarrow$ Week X Assignment (week 1 this week)\n",
    "6. Submit assignment"
   ]
  },
  {
   "cell_type": "markdown",
   "metadata": {},
   "source": [
    "---\n",
    "\n",
    "## Assignment 1 - using Python syntax"
   ]
  },
  {
   "cell_type": "markdown",
   "metadata": {},
   "source": [
    "Please look over the notebook you constructed in class: all of what you are asked to do either replicates or is close to things we did in class"
   ]
  },
  {
   "cell_type": "markdown",
   "metadata": {},
   "source": [
    "**Please include your student number in the cell below:**"
   ]
  },
  {
   "cell_type": "markdown",
   "metadata": {},
   "source": []
  },
  {
   "cell_type": "markdown",
   "metadata": {},
   "source": [
    "### Exercise 1 (4 marks)"
   ]
  },
  {
   "cell_type": "markdown",
   "metadata": {},
   "source": [
    "Write a small function that divides an input number by 4\n",
    "\n",
    "Function syntax will look like:\n",
    "\n",
    "```\n",
    "def SOME_NAME(SOME_INPUT):\n",
    "    OUTPUT = <PERFORM MATHS ON THE INPUT>\n",
    "    RETURN OUTPUT\n",
    "```\n",
    "\n",
    "Just as `*` is the notation for 'multiply by' `\\` is the notation for 'divide by'"
   ]
  },
  {
   "cell_type": "code",
   "execution_count": 1,
   "metadata": {},
   "outputs": [],
   "source": [
    "# place your function here"
   ]
  },
  {
   "cell_type": "code",
   "execution_count": 2,
   "metadata": {},
   "outputs": [],
   "source": [
    "# Try out your function here"
   ]
  },
  {
   "cell_type": "markdown",
   "metadata": {},
   "source": [
    "### Exercise 2 (2 marks)"
   ]
  },
  {
   "cell_type": "markdown",
   "metadata": {},
   "source": [
    "Using `input` ask a user to enter their height in centimetres then convert the answer to an integer. \n",
    "\n",
    "This will involve two steps: \n",
    "1. Run the input request `height = input(\"some instruction\")`\n",
    "2. Change the answer to an integer using `int(height)` (or whatever you called the object)"
   ]
  },
  {
   "cell_type": "markdown",
   "metadata": {},
   "source": [
    "### Exercise 3 (4 marks)"
   ]
  },
  {
   "cell_type": "markdown",
   "metadata": {},
   "source": [
    "Create a small chatbot that can be deployed to solve the important question of when porridge is 'just right.'\n",
    "\n",
    "1. Ask a user to input their name.\n",
    "2. Ask them to input the temperature their porridge is at right now\n",
    "3. Convert the temperature into an integer\n",
    "4. Print a statement greeting the user by name then telling them if their porridge is:\n",
    "   1. Too cold\n",
    "   2. Just right\n",
    "   3. Too hot\n",
    "\n",
    "\n",
    "You will need to use an `if` $\\rightarrow$ `elif` $\\rightarrow$ `else` sequence to do this. It is up to you to decide what range of temperatures count as 'just right'!"
   ]
  },
  {
   "cell_type": "code",
   "execution_count": 4,
   "metadata": {},
   "outputs": [],
   "source": [
    "# Create your input and if/elif/else statements in this cell"
   ]
  },
  {
   "cell_type": "markdown",
   "metadata": {},
   "source": [
    "Once you have completed your work:\n",
    "\n",
    "1. Save it\n",
    "2. Export it\n",
    "3. Submit it"
   ]
  }
 ],
 "metadata": {
  "kernelspec": {
   "display_name": "Python 3.9.12 ('base')",
   "language": "python",
   "name": "python3"
  },
  "language_info": {
   "codemirror_mode": {
    "name": "ipython",
    "version": 3
   },
   "file_extension": ".py",
   "mimetype": "text/x-python",
   "name": "python",
   "nbconvert_exporter": "python",
   "pygments_lexer": "ipython3",
   "version": "3.9.12"
  },
  "orig_nbformat": 4,
  "vscode": {
   "interpreter": {
    "hash": "4a38e3050587c23ddf3cad48cf128e579702084d1f2e6323d5657ab912918186"
   }
  }
 },
 "nbformat": 4,
 "nbformat_minor": 2
}
