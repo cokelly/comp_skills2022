{
 "cells": [
  {
   "cell_type": "markdown",
   "id": "243815cf-948e-4f62-9ccc-b5e872f66803",
   "metadata": {},
   "source": [
    "# Introducing computational notebooks"
   ]
  },
  {
   "cell_type": "markdown",
   "id": "c68e49c4-6f95-4ade-a18f-a155bbb8a3a8",
   "metadata": {
    "slideshow": {
     "slide_type": "subslide"
    }
   },
   "source": [
    "### Markdown\n",
    "\n",
    "Jupyter notebooks intersperse code and data plots with [Markdown](https://guides.github.com/features/mastering-markdown/), a highly simplified syntax for marking up text:"
   ]
  },
  {
   "cell_type": "markdown",
   "id": "b1b51bdb-f72d-4661-bab3-61730a4d3053",
   "metadata": {
    "slideshow": {
     "slide_type": "fragment"
    }
   },
   "source": [
    "* \\*\\*bold\\*\\*\\\n",
    "* \\*italics\\*\n",
    "* \\[a link\\]\\(https:qub.ac.uk\\)\n",
    "* etc."
   ]
  },
  {
   "cell_type": "markdown",
   "id": "8a103350-ae8a-4458-b5fa-29045ede8df8",
   "metadata": {
    "slideshow": {
     "slide_type": "fragment"
    },
    "tags": []
   },
   "source": [
    "So you write your text and leave all but the simplest formatting to your computer.  "
   ]
  },
  {
   "cell_type": "markdown",
   "id": "5ba1f6cd-b8f0-40e6-809f-d234903eedab",
   "metadata": {
    "slideshow": {
     "slide_type": "fragment"
    },
    "tags": []
   },
   "source": [
    "# Let's try it"
   ]
  },
  {
   "cell_type": "markdown",
   "id": "a35e6509-85b9-4239-9923-ff9c83b374aa",
   "metadata": {
    "slideshow": {
     "slide_type": "subslide"
    },
    "tags": []
   },
   "source": [
    "### Code cells"
   ]
  },
  {
   "cell_type": "markdown",
   "id": "93491b74-1a4b-4841-a5f9-6004a314c45a",
   "metadata": {
    "slideshow": {
     "slide_type": "subslide"
    },
    "tags": []
   },
   "source": [
    "Code cells are used to write (in our case) Python code. The code can be 'executed' within the notebook"
   ]
  },
  {
   "cell_type": "code",
   "execution_count": null,
   "id": "afefd11a-ce09-431f-91b4-bca82ad4aefe",
   "metadata": {
    "slideshow": {
     "slide_type": "fragment"
    },
    "tags": []
   },
   "outputs": [],
   "source": []
  },
  {
   "cell_type": "markdown",
   "id": "f4f28418-b1f4-487f-bd74-677f3cbfabc2",
   "metadata": {},
   "source": [
    "# Basic Python Concepts\n",
    "\n",
    "Python is a relatively straightforward computing language but the best way to learn is to use it for solving problems. Nonetheless here are some basic elements of Python."
   ]
  },
  {
   "cell_type": "markdown",
   "id": "32537e62-1dac-4297-a0e7-2a55b034e581",
   "metadata": {},
   "source": [
    "## Syntax\n",
    "\n",
    "Every computer language has its own syntax that you must learn. Different object types are flagged using syntax (see below) and we operate on specific objects using syntax."
   ]
  },
  {
   "cell_type": "code",
   "execution_count": null,
   "id": "25f6c69a-42bf-43de-93e1-bdf30d193858",
   "metadata": {},
   "outputs": [],
   "source": [
    "# Print something\n"
   ]
  },
  {
   "cell_type": "code",
   "execution_count": null,
   "id": "0d366f75-a14e-4f67-9a52-b092a99104fe",
   "metadata": {},
   "outputs": [],
   "source": [
    "# Name an object then print\n"
   ]
  },
  {
   "cell_type": "code",
   "execution_count": null,
   "id": "7a0e31f2-16b8-49db-b33a-d4a1c59637df",
   "metadata": {},
   "outputs": [],
   "source": [
    "# Input a variable then print\n"
   ]
  },
  {
   "cell_type": "code",
   "execution_count": null,
   "id": "415ecf08",
   "metadata": {},
   "outputs": [],
   "source": [
    "# Input sequence\n"
   ]
  },
  {
   "cell_type": "code",
   "execution_count": null,
   "id": "05bd9590",
   "metadata": {},
   "outputs": [],
   "source": [
    "# Compute on input (= error)\n"
   ]
  },
  {
   "cell_type": "markdown",
   "id": "037d6f06-af8e-49f3-a6a0-29af87f3ae76",
   "metadata": {},
   "source": [
    "## Data types\n",
    "\n",
    "Data comes in many types. Some main ones are:"
   ]
  },
  {
   "cell_type": "markdown",
   "id": "6a038fe7-ee6b-4ad0-beda-579eb753954b",
   "metadata": {},
   "source": [
    "### Numeric\n",
    "\n",
    "These are numbers in essence, specifically numbers that you can perform statistical operations on (mean, median etc).\n",
    "\n",
    "In Python, numbers are stored as 'integers' (whole numbers: 1, 2, 3 etc) or 'floating point numbers' (1.25, 3.14159 etc)"
   ]
  },
  {
   "cell_type": "code",
   "execution_count": null,
   "id": "46a9b867-27db-41b4-821a-54200cd85884",
   "metadata": {},
   "outputs": [],
   "source": []
  },
  {
   "cell_type": "code",
   "execution_count": null,
   "id": "383272d0-2c35-416b-bb05-09a5889f224e",
   "metadata": {},
   "outputs": [],
   "source": [
    "# Print the types for each number"
   ]
  },
  {
   "cell_type": "code",
   "execution_count": null,
   "id": "f324ea82-3e89-4c18-8145-ffb28bcd09f6",
   "metadata": {},
   "outputs": [],
   "source": []
  },
  {
   "cell_type": "code",
   "execution_count": null,
   "id": "c60edf66-435a-4172-9bd6-ff01521da53a",
   "metadata": {},
   "outputs": [],
   "source": []
  },
  {
   "cell_type": "markdown",
   "id": "6b9edde8-0c9b-4257-aecb-d449c5b049de",
   "metadata": {},
   "source": [
    "**Note**: Python counts along lists from **0**. So `example_list[1]` refers to the **second* number on the list** (3 in this case). "
   ]
  },
  {
   "cell_type": "markdown",
   "id": "b96680ce-1277-45bd-968b-e75bbd348ecf",
   "metadata": {},
   "source": [
    "Sort the list. **Note the syntax**"
   ]
  },
  {
   "cell_type": "code",
   "execution_count": null,
   "id": "c0624a12-ba24-45cf-b89a-ff179c80f11f",
   "metadata": {},
   "outputs": [],
   "source": [
    "# Sort the list"
   ]
  },
  {
   "cell_type": "code",
   "execution_count": null,
   "id": "32a9ed0e-d2d0-427e-8d50-352f379a8558",
   "metadata": {},
   "outputs": [],
   "source": [
    "# Turn the numbers into strings using a loop\n"
   ]
  },
  {
   "cell_type": "markdown",
   "id": "c221e48e-8f10-4301-9336-ad80bc574268",
   "metadata": {},
   "source": [
    "Let's calculate the mean using operations from the numpy library. **Note the syntax**"
   ]
  },
  {
   "cell_type": "code",
   "execution_count": null,
   "id": "fda76f8d-2e69-469b-a41b-068100624d6b",
   "metadata": {},
   "outputs": [],
   "source": [
    "# calculate the mean using numpy"
   ]
  },
  {
   "cell_type": "code",
   "execution_count": null,
   "id": "0cc56b8c-da12-492f-a2e7-7a144579cc9d",
   "metadata": {},
   "outputs": [],
   "source": []
  },
  {
   "cell_type": "markdown",
   "id": "e12b2ef5-eb75-491c-aa16-9c212664c5ce",
   "metadata": {},
   "source": [
    "### Categorical/Factoral\n",
    "\n",
    "Categorical data may be textual or numerical. So for instance we may have two categories 'tall' and 'short' that are represented in the data in one of three ways:\n",
    "\n",
    "**Text**:\n",
    "\n",
    "* tall\n",
    "* short\n",
    "\n",
    "**Ordinal**\n",
    "\n",
    "* tall = 1\n",
    "* short = 0\n",
    "\n",
    "**Boolean**\n",
    "\n",
    "* True\n",
    "* False\n",
    "\n",
    "Beware ordinal data especially. Imagine a list of results from a survey of people's heights:"
   ]
  },
  {
   "cell_type": "code",
   "execution_count": null,
   "id": "af96c2db-36ea-419c-b864-88c512c43f6d",
   "metadata": {},
   "outputs": [],
   "source": [
    "# Tall = 1\n",
    "# Short = 0\n",
    "heights = [1, 0, 1, 1, 0, 1, 0, 0, 0, 1, 1, 0, 1]"
   ]
  },
  {
   "cell_type": "markdown",
   "id": "222f2c0a-5380-4a43-95be-38f8c0441994",
   "metadata": {},
   "source": [
    "You cannot perform (most) statistical operations on this list. There is no average to get because the numbers are simply symbols for the categories.\n",
    "\n",
    "That said, computer programmes very often represent categorical data as ones and zeros etc. Care is needed to understand what the data is."
   ]
  },
  {
   "cell_type": "markdown",
   "id": "06e59990-4f30-4002-804a-f7817976d336",
   "metadata": {},
   "source": [
    "Strings can also be stored and manipulated in Python. "
   ]
  },
  {
   "cell_type": "code",
   "execution_count": null,
   "id": "15793e7a-d13e-4de4-8d9c-d392e48ca866",
   "metadata": {},
   "outputs": [],
   "source": []
  },
  {
   "cell_type": "code",
   "execution_count": null,
   "id": "d1cc88a4-9200-4795-91a8-96a01dca277f",
   "metadata": {},
   "outputs": [],
   "source": [
    "# Print a discussion using a for loop"
   ]
  },
  {
   "cell_type": "code",
   "execution_count": null,
   "id": "cfcc7fcd-b9da-45e2-9408-bf539bddcdea",
   "metadata": {},
   "outputs": [],
   "source": [
    "# sort the list"
   ]
  },
  {
   "cell_type": "markdown",
   "id": "41e3ad9c-3897-4b6d-886e-1c616c1c8753",
   "metadata": {},
   "source": [
    "Let's play with a 'dictionary' that contains information about different trees."
   ]
  },
  {
   "cell_type": "code",
   "execution_count": null,
   "id": "e5b131ef-0344-479a-bb6d-f6fd97890005",
   "metadata": {},
   "outputs": [],
   "source": []
  },
  {
   "cell_type": "markdown",
   "id": "dc141a1a-d5f5-4722-96a2-2ca33418fc16",
   "metadata": {},
   "source": [
    "We can even draw maps with tree locations! See [here](https://www.opendatani.gov.uk/dataset/belfast-trees)"
   ]
  },
  {
   "cell_type": "markdown",
   "id": "d013eb15-67fe-4f10-a8bb-3c1b0a53c855",
   "metadata": {},
   "source": [
    "Let's import some libraries and get the location of each tree in Belfast"
   ]
  },
  {
   "cell_type": "code",
   "execution_count": null,
   "id": "4d31ff92-1803-473e-8bcb-f4d8564db68c",
   "metadata": {},
   "outputs": [],
   "source": [
    "belfast_trees = pd.read_csv(\"https://www.belfastcity.gov.uk/getmedia/262a1f01-f219-4780-835e-7a833bdd1e1c/odTrees.csv\")"
   ]
  },
  {
   "cell_type": "code",
   "execution_count": null,
   "id": "9b370eeb-df72-4022-9fb1-faa4b4ce19f6",
   "metadata": {},
   "outputs": [],
   "source": [
    "sns.set(rc={\"figure.figsize\": (18, 14)})"
   ]
  },
  {
   "cell_type": "markdown",
   "id": "fd4bd978-8cd4-4297-b25d-d2a766612145",
   "metadata": {},
   "source": [
    "We will come back to this next week"
   ]
  },
  {
   "cell_type": "markdown",
   "id": "b94bd262",
   "metadata": {},
   "source": [
    "## Create a simple chatbot using functions"
   ]
  },
  {
   "cell_type": "markdown",
   "id": "ad0cb454",
   "metadata": {},
   "source": [
    "### Functions and inputs"
   ]
  },
  {
   "cell_type": "code",
   "execution_count": null,
   "id": "3323485f",
   "metadata": {},
   "outputs": [],
   "source": [
    "# Ask for name and age"
   ]
  },
  {
   "cell_type": "code",
   "execution_count": null,
   "id": "36489af9",
   "metadata": {},
   "outputs": [],
   "source": [
    "# Create a function with responses"
   ]
  },
  {
   "cell_type": "markdown",
   "id": "821df40b-4fc0-4c97-8779-5e60ee6257fe",
   "metadata": {},
   "source": [
    "# Background: create a chatbot"
   ]
  },
  {
   "cell_type": "markdown",
   "id": "bbac69b5-2e49-4046-b75e-7cc85d93522f",
   "metadata": {},
   "source": [
    "## A more complex chatbot"
   ]
  },
  {
   "cell_type": "markdown",
   "id": "0967daa7-c7dd-4fe8-978e-fa997671d944",
   "metadata": {},
   "source": [
    "Think about the eligibility criteria for Income support as listed [here](https://www.nidirect.gov.uk/articles/income-support):\n",
    "\n",
    "To qualify for income support (as of last week) you need to:\n",
    "\n",
    "1. be between 16 and Pension Credit qualifying age\n",
    "2. not be signed on as unemployed\n",
    "3. be either pregnant, a carer, a lone parent with a child under five or, in some cases, unable to work because you’re sick or disabled\n",
    "4. have no income or a low income (your partner’s income and savings will be taken into account)\n",
    "5. be working less than 16 hours a week and your partner working less than 24 hours a week (you may still qualify if you do unpaid voluntary work or go on parental or paternity leave\n",
    "6. live in Northern Ireland\n",
    "7. not be under immigration control"
   ]
  },
  {
   "cell_type": "markdown",
   "id": "7d3f1f0e-5ec0-4a1d-91f6-e2c671820de5",
   "metadata": {},
   "source": [
    "Using the method above we could easily write a chatbot that informed users of their eligibility for income support."
   ]
  },
  {
   "cell_type": "code",
   "execution_count": null,
   "id": "eaba8f3b-0478-46e2-9009-1519da393d42",
   "metadata": {},
   "outputs": [],
   "source": [
    "import sys\n",
    "\n",
    "def income_support():\n",
    "    # Ask for the user's name\n",
    "    name = input(\"Please enter your name\")\n",
    "    # Greet them and explain the bot's purpose\n",
    "    print(\"Hi,\", name, \". I will ask you a few questions to determine if you are eligible for income support.\")\n",
    "# Age\n",
    "    age = input(\"What age are you?\")\n",
    "    try:\n",
    "        age = int(age)\n",
    "        if age >= 16 and age < 65:\n",
    "# Unemployed\n",
    "            unemployed = input(\"Thank you. Are you signed on as unemployed? Please answer yes or no.\")\n",
    "            if unemployed == \"no\":\n",
    "# Pregnant etc\n",
    "                carer_etc = input(\"Thank you. Are you pregnant, a carer, a lone parent with a child under five or are you unable to work because you’re sick or disabled? Please answer yes or no\")\n",
    "                if carer_etc == \"yes\":\n",
    "                    print(\"Thank you: you qualify for income support\")\n",
    "                elif carer_etc == \"no\":\n",
    "                    print(\"Unfortunately you do not qualify for income support\")\n",
    "                else:\n",
    "                    print(\"Please answer yes or no\")\n",
    "            elif unemployed == \"yes\":\n",
    "                print(\"Unfortunately you do not qualify for income support\")\n",
    "            else:\n",
    "                print(\"Please answer yes or no\")\n",
    "        elif age < 16:\n",
    "            print(\"Unfortunately you are too young for income support\")\n",
    "        else:\n",
    "            print(\"Unfortunately you are too old to quality for income support. You may be eligible for pension credits.\")\n",
    "    except ValueError:\n",
    "        print(\"Please enter your age in numerals\")"
   ]
  },
  {
   "cell_type": "code",
   "execution_count": null,
   "id": "92e30901-b92e-4c22-a828-beb638aa3778",
   "metadata": {},
   "outputs": [],
   "source": [
    "income_support()"
   ]
  },
  {
   "cell_type": "markdown",
   "id": "9bdd4331-e1fd-40e3-a772-2f8b789bcccf",
   "metadata": {},
   "source": [
    "This is a very simple chatbot with only minimum error handling.\n",
    "\n",
    "A few things are noticeable though:\n",
    "\n",
    "1. It is pretty hard to read because all the conditions we check for are 'nested' in the code\n",
    "2. It reads like a flowchart or a recipe. This is **rules-based programming**. The coder sets a series of rules and the computer fits people into categories based on those rules. \n",
    "\n",
    "This gives us some insights into 'computational reasoning': how is computing constructed in essence: how are decisions 'made' algorithmically by computers in this simple model?\n",
    "Let's return to the presentation now and consider this briefly against law: is law 'computable' like this?"
   ]
  }
 ],
 "metadata": {
  "kernelspec": {
   "display_name": "Python 3.9.5 ('base')",
   "language": "python",
   "name": "python3"
  },
  "language_info": {
   "codemirror_mode": {
    "name": "ipython",
    "version": 3
   },
   "file_extension": ".py",
   "mimetype": "text/x-python",
   "name": "python",
   "nbconvert_exporter": "python",
   "pygments_lexer": "ipython3",
   "version": "3.9.12"
  },
  "vscode": {
   "interpreter": {
    "hash": "4a38e3050587c23ddf3cad48cf128e579702084d1f2e6323d5657ab912918186"
   }
  }
 },
 "nbformat": 4,
 "nbformat_minor": 5
}
